{
 "cells": [
  {
   "cell_type": "markdown",
   "metadata": {},
   "source": [
    "## Beautiful Soup"
   ]
  },
  {
   "cell_type": "markdown",
   "metadata": {},
   "source": [
    "### LaForet"
   ]
  },
  {
   "cell_type": "code",
   "execution_count": 120,
   "metadata": {},
   "outputs": [],
   "source": [
    "from bs4 import BeautifulSoup\n",
    "import requests as rq\n",
    "\n",
    "urlbase = 'https://www.laforet.com/'\n",
    "urlbuy = 'agence-immobiliere/meudon/acheter'\n",
    "page = rq.get(urlbase+urlbuy)\n",
    "soup = BeautifulSoup(page.content, \"html.parser\")"
   ]
  },
  {
   "cell_type": "code",
   "execution_count": 13,
   "metadata": {},
   "outputs": [
    {
     "data": {
      "text/plain": [
       "11"
      ]
     },
     "execution_count": 13,
     "metadata": {},
     "output_type": "execute_result"
    }
   ],
   "source": [
    "prop = soup.find_all(class_=\"property-card__hover\")\n",
    "len(prop)"
   ]
  },
  {
   "cell_type": "code",
   "execution_count": 102,
   "metadata": {},
   "outputs": [
    {
     "data": {
      "text/plain": [
       "['/agence-immobiliere/meudon/acheter/meudon/appartement-1-piece-20960201',\n",
       " '/agence-immobiliere/meudon/acheter/meudon/appartement-1-piece-20925029',\n",
       " '/agence-immobiliere/meudon/acheter/meudon/appartement-2-pieces-20912427',\n",
       " '/agence-immobiliere/meudon/acheter/meudon/appartement-6-pieces-20894039',\n",
       " '/agence-immobiliere/meudon/acheter/issy-les-moulineaux/maison-5-pieces-19586171',\n",
       " '/agence-immobiliere/meudon/acheter/meudon/appartement-2-pieces-21011095',\n",
       " '/agence-immobiliere/meudon/acheter/meudon/maison-7-pieces-20954024',\n",
       " '/agence-immobiliere/meudon/acheter/clamart/maison-6-pieces-20908999',\n",
       " '/agence-immobiliere/meudon/acheter/meudon/appartement-4-pieces-20904343',\n",
       " '/agence-immobiliere/meudon/acheter/meudon/appartement-2-pieces-20815544',\n",
       " '/agence-immobiliere/meudon/acheter/meudon/appartement-3-pieces-18001773']"
      ]
     },
     "execution_count": 102,
     "metadata": {},
     "output_type": "execute_result"
    }
   ],
   "source": [
    "link = [k.a['href'] for k in prop]\n",
    "link"
   ]
  },
  {
   "cell_type": "code",
   "execution_count": 14,
   "metadata": {},
   "outputs": [
    {
     "data": {
      "text/plain": [
       "'/agence-immobiliere/meudon/acheter/meudon/appartement-1-piece-20960201'"
      ]
     },
     "execution_count": 14,
     "metadata": {},
     "output_type": "execute_result"
    }
   ],
   "source": [
    "prop[0].a['href']"
   ]
  },
  {
   "cell_type": "code",
   "execution_count": 90,
   "metadata": {},
   "outputs": [
    {
     "data": {
      "text/plain": [
       "'/agence-immobiliere/meudon/acheter/meudon/appartement-3-pieces-18001773'"
      ]
     },
     "execution_count": 90,
     "metadata": {},
     "output_type": "execute_result"
    }
   ],
   "source": [
    "prop[-1].a['href']"
   ]
  },
  {
   "cell_type": "code",
   "execution_count": 106,
   "metadata": {},
   "outputs": [
    {
     "data": {
      "text/plain": [
       "6"
      ]
     },
     "execution_count": 106,
     "metadata": {},
     "output_type": "execute_result"
    }
   ],
   "source": [
    "b = soup.find_all(class_=\"property-card__body\")\n",
    "len(b)"
   ]
  },
  {
   "cell_type": "code",
   "execution_count": 76,
   "metadata": {},
   "outputs": [
    {
     "data": {
      "text/plain": [
       "[<a class=\"property-card__link\" data-v-2da0e5e0=\"\" href=\"/agence-immobiliere/meudon/acheter/meudon/appartement-1-piece-20960201\" target=\"_blank\"></a>,\n",
       " <a class=\"property-card__link\" data-v-2da0e5e0=\"\" href=\"/agence-immobiliere/meudon/acheter/meudon/appartement-1-piece-20960201\" target=\"_blank\"></a>,\n",
       " <a class=\"property-card__link\" data-v-2da0e5e0=\"\" href=\"/agence-immobiliere/meudon/acheter/meudon/appartement-1-piece-20960201\" target=\"_blank\"></a>,\n",
       " <a class=\"property-card__link\" data-v-2da0e5e0=\"\" href=\"/agence-immobiliere/meudon/acheter/meudon/appartement-1-piece-20925029\" target=\"_blank\"></a>,\n",
       " <a class=\"property-card__link\" data-v-2da0e5e0=\"\" href=\"/agence-immobiliere/meudon/acheter/meudon/appartement-1-piece-20925029\" target=\"_blank\"></a>,\n",
       " <a class=\"property-card__link\" data-v-2da0e5e0=\"\" href=\"/agence-immobiliere/meudon/acheter/meudon/appartement-1-piece-20925029\" target=\"_blank\"></a>,\n",
       " <a class=\"property-card__link\" data-v-2da0e5e0=\"\" href=\"/agence-immobiliere/meudon/acheter/meudon/appartement-2-pieces-20912427\" target=\"_blank\"></a>,\n",
       " <a class=\"property-card__link\" data-v-2da0e5e0=\"\" href=\"/agence-immobiliere/meudon/acheter/meudon/appartement-2-pieces-20912427\" target=\"_blank\"></a>,\n",
       " <a class=\"property-card__link\" data-v-2da0e5e0=\"\" href=\"/agence-immobiliere/meudon/acheter/meudon/appartement-2-pieces-20912427\" target=\"_blank\"></a>,\n",
       " <a class=\"property-card__link\" data-v-2da0e5e0=\"\" href=\"/agence-immobiliere/meudon/acheter/meudon/appartement-6-pieces-20894039\" target=\"_blank\"></a>]"
      ]
     },
     "execution_count": 76,
     "metadata": {},
     "output_type": "execute_result"
    }
   ],
   "source": [
    "l = soup.find_all(class_=\"property-card__link\")\n",
    "l[0:10]"
   ]
  },
  {
   "cell_type": "code",
   "execution_count": 21,
   "metadata": {},
   "outputs": [
    {
     "data": {
      "text/plain": [
       "'\\n            Appartement T1 Meudon\\n          '"
      ]
     },
     "execution_count": 21,
     "metadata": {},
     "output_type": "execute_result"
    }
   ],
   "source": [
    "prop[0].find(class_=\"property-card__title\").text"
   ]
  },
  {
   "cell_type": "code",
   "execution_count": 25,
   "metadata": {},
   "outputs": [
    {
     "data": {
      "text/plain": [
       "<div class=\"property-card__hover\" data-v-2da0e5e0=\"\"><a class=\"property-card__link\" data-v-2da0e5e0=\"\" href=\"/agence-immobiliere/meudon/acheter/meudon/appartement-1-piece-20960201\" target=\"_blank\"></a> <div class=\"property-card__overlay\" data-v-2da0e5e0=\"\"><a class=\"property-card__link\" data-v-2da0e5e0=\"\" href=\"/agence-immobiliere/meudon/acheter/meudon/appartement-1-piece-20960201\" target=\"_blank\"></a> <div class=\"property-card__overlay__body\" data-v-2da0e5e0=\"\"><h4 class=\"property-card__title\" data-v-2da0e5e0=\"\">\n",
       "            Appartement T1 Meudon\n",
       "          </h4> <!-- --><!-- --><!-- --></div> <!-- --></div> <!-- --></div>"
      ]
     },
     "execution_count": 25,
     "metadata": {},
     "output_type": "execute_result"
    }
   ],
   "source": [
    "prop[0]"
   ]
  },
  {
   "cell_type": "code",
   "execution_count": 65,
   "metadata": {},
   "outputs": [
    {
     "data": {
      "text/plain": [
       "<div class=\"property-card__infos\" data-v-2da0e5e0=\"\"><div data-v-2da0e5e0=\"\"><span class=\"property-card__feature\" data-v-2da0e5e0=\"\">\n",
       "            53 m²\n",
       "          </span><span class=\"property-card__feature\" data-v-2da0e5e0=\"\">\n",
       "            1 chambre\n",
       "          </span></div> <span class=\"property-card__price\" data-v-2da0e5e0=\"\">\n",
       "          355 000 €\n",
       "        </span></div>"
      ]
     },
     "execution_count": 65,
     "metadata": {},
     "output_type": "execute_result"
    }
   ],
   "source": [
    "i = soup.find_all(class_=\"property-card__infos\")\n",
    "i[0]"
   ]
  },
  {
   "cell_type": "code",
   "execution_count": 112,
   "metadata": {},
   "outputs": [
    {
     "data": {
      "text/plain": [
       "<div class=\"property-card__hover\" data-v-2da0e5e0=\"\"><a class=\"property-card__link\" data-v-2da0e5e0=\"\" href=\"/agence-immobiliere/meudon/acheter/meudon/appartement-1-piece-20960201\" target=\"_blank\"></a> <div class=\"property-card__overlay\" data-v-2da0e5e0=\"\"><a class=\"property-card__link\" data-v-2da0e5e0=\"\" href=\"/agence-immobiliere/meudon/acheter/meudon/appartement-1-piece-20960201\" target=\"_blank\"></a> <div class=\"property-card__overlay__body\" data-v-2da0e5e0=\"\"><h4 class=\"property-card__title\" data-v-2da0e5e0=\"\">\n",
       "            Appartement T1 Meudon\n",
       "          </h4> <!-- --><!-- --><!-- --></div> <!-- --></div> <!-- --></div>"
      ]
     },
     "execution_count": 112,
     "metadata": {},
     "output_type": "execute_result"
    }
   ],
   "source": [
    "soup.find_all(class_=\"property-card__hover\")[0]"
   ]
  },
  {
   "cell_type": "code",
   "execution_count": 114,
   "metadata": {},
   "outputs": [
    {
     "data": {
      "text/plain": [
       "<div class=\"property-card__overlay__body\" data-v-2da0e5e0=\"\"><h4 class=\"property-card__title\" data-v-2da0e5e0=\"\">\n",
       "            Appartement T1 Meudon\n",
       "          </h4> <!-- --><!-- --><!-- --></div>"
      ]
     },
     "execution_count": 114,
     "metadata": {},
     "output_type": "execute_result"
    }
   ],
   "source": [
    "soup.find_all(class_=\"property-card__overlay__body\")[0]"
   ]
  },
  {
   "cell_type": "code",
   "execution_count": 67,
   "metadata": {},
   "outputs": [
    {
     "data": {
      "text/plain": [
       "[53, 140, 179, 89, 47, 79]"
      ]
     },
     "execution_count": 67,
     "metadata": {},
     "output_type": "execute_result"
    }
   ],
   "source": [
    "m2 = [int(k.span.get_text(strip=True).replace(u' m²', u'')) for k in i]\n",
    "m2"
   ]
  },
  {
   "cell_type": "code",
   "execution_count": 59,
   "metadata": {},
   "outputs": [
    {
     "data": {
      "text/plain": [
       "53"
      ]
     },
     "execution_count": 59,
     "metadata": {},
     "output_type": "execute_result"
    }
   ],
   "source": [
    "f = soup.find_all(class_=\"property-card__feature\")\n",
    "int(f[0].get_text(strip=True).replace(u' m²', u''))"
   ]
  },
  {
   "cell_type": "code",
   "execution_count": 108,
   "metadata": {},
   "outputs": [
    {
     "data": {
      "text/plain": [
       "12"
      ]
     },
     "execution_count": 108,
     "metadata": {},
     "output_type": "execute_result"
    }
   ],
   "source": [
    "len(f)"
   ]
  },
  {
   "cell_type": "code",
   "execution_count": 70,
   "metadata": {},
   "outputs": [
    {
     "data": {
      "text/plain": [
       "<span class=\"property-card__feature\" data-v-2da0e5e0=\"\">\n",
       "            1 chambre\n",
       "          </span>"
      ]
     },
     "execution_count": 70,
     "metadata": {},
     "output_type": "execute_result"
    }
   ],
   "source": [
    "f[1]"
   ]
  },
  {
   "cell_type": "code",
   "execution_count": 84,
   "metadata": {},
   "outputs": [
    {
     "data": {
      "text/plain": [
       "11"
      ]
     },
     "execution_count": 84,
     "metadata": {},
     "output_type": "execute_result"
    }
   ],
   "source": [
    "t = soup.find_all(class_=\"property-card__title\")\n",
    "len(t)"
   ]
  },
  {
   "cell_type": "code",
   "execution_count": 87,
   "metadata": {},
   "outputs": [
    {
     "data": {
      "text/plain": [
       "'Appartement T1 Meudon'"
      ]
     },
     "execution_count": 87,
     "metadata": {},
     "output_type": "execute_result"
    }
   ],
   "source": [
    "t[0].get_text(strip=True)"
   ]
  },
  {
   "cell_type": "code",
   "execution_count": 94,
   "metadata": {},
   "outputs": [
    {
     "data": {
      "text/plain": [
       "['Appartement T1 Meudon',\n",
       " 'Appartement T1 Meudon',\n",
       " 'Appartement T2 Meudon',\n",
       " 'Appartement T6 Meudon',\n",
       " 'Maison T5 Issy-les-Moulineaux',\n",
       " 'Appartement T2 Meudon',\n",
       " 'Maison T7 Meudon',\n",
       " 'Maison T6 Clamart',\n",
       " 'Appartement T4 Meudon',\n",
       " 'Appartement T2 Meudon',\n",
       " 'Appartement T3 Meudon']"
      ]
     },
     "execution_count": 94,
     "metadata": {},
     "output_type": "execute_result"
    }
   ],
   "source": [
    "title = [k.get_text(strip=True) for k in t]\n",
    "title"
   ]
  },
  {
   "cell_type": "code",
   "execution_count": 45,
   "metadata": {},
   "outputs": [
    {
     "data": {
      "text/plain": [
       "355000"
      ]
     },
     "execution_count": 45,
     "metadata": {},
     "output_type": "execute_result"
    }
   ],
   "source": [
    "p = soup.find_all(class_=\"property-card__price\")\n",
    "int(p[0].get_text(strip=True).replace(u'\\u202f', u'').replace(u'\\xa0€', u''))"
   ]
  },
  {
   "cell_type": "code",
   "execution_count": 93,
   "metadata": {},
   "outputs": [
    {
     "data": {
      "text/plain": [
       "[355000, 1070000, 967000, 630000, 315000, 510000]"
      ]
     },
     "execution_count": 93,
     "metadata": {},
     "output_type": "execute_result"
    }
   ],
   "source": [
    "price = [int(k.get_text(strip=True).replace(u'\\u202f', u'').replace(u'\\xa0€', u'')) for k in p]\n",
    "price"
   ]
  },
  {
   "cell_type": "code",
   "execution_count": 124,
   "metadata": {},
   "outputs": [
    {
     "data": {
      "text/plain": [
       "'data:image/svg+xml;charset=UTF-8,%3Csvg%20width%3D%221%22%20height%3D%221%22%20xmlns%3D%22http%3A%2F%2Fwww.w3.org%2F2000%2Fsvg%22%20viewBox%3D%220%200%20%25%7Bw%7D%20%25%7Bh%7D%22%20preserveAspectRatio%3D%22none%22%3E%3Crect%20width%3D%22100%25%22%20height%3D%22100%25%22%20style%3D%22fill%3Atransparent%3B%22%3E%3C%2Frect%3E%3C%2Fsvg%3E'"
      ]
     },
     "execution_count": 124,
     "metadata": {},
     "output_type": "execute_result"
    }
   ],
   "source": [
    "ph = soup.find_all(class_=\"property-card__photo\")\n",
    "photo = [k['src'] for k in ph]\n",
    "photo[0]"
   ]
  },
  {
   "cell_type": "code",
   "execution_count": 103,
   "metadata": {},
   "outputs": [
    {
     "data": {
      "text/html": [
       "<div>\n",
       "<style scoped>\n",
       "    .dataframe tbody tr th:only-of-type {\n",
       "        vertical-align: middle;\n",
       "    }\n",
       "\n",
       "    .dataframe tbody tr th {\n",
       "        vertical-align: top;\n",
       "    }\n",
       "\n",
       "    .dataframe thead th {\n",
       "        text-align: right;\n",
       "    }\n",
       "</style>\n",
       "<table border=\"1\" class=\"dataframe\">\n",
       "  <thead>\n",
       "    <tr style=\"text-align: right;\">\n",
       "      <th></th>\n",
       "      <th>title</th>\n",
       "      <th>link</th>\n",
       "    </tr>\n",
       "  </thead>\n",
       "  <tbody>\n",
       "    <tr>\n",
       "      <th>0</th>\n",
       "      <td>Appartement T1 Meudon</td>\n",
       "      <td>/agence-immobiliere/meudon/acheter/meudon/appa...</td>\n",
       "    </tr>\n",
       "    <tr>\n",
       "      <th>1</th>\n",
       "      <td>Appartement T1 Meudon</td>\n",
       "      <td>/agence-immobiliere/meudon/acheter/meudon/appa...</td>\n",
       "    </tr>\n",
       "    <tr>\n",
       "      <th>2</th>\n",
       "      <td>Appartement T2 Meudon</td>\n",
       "      <td>/agence-immobiliere/meudon/acheter/meudon/appa...</td>\n",
       "    </tr>\n",
       "    <tr>\n",
       "      <th>3</th>\n",
       "      <td>Appartement T6 Meudon</td>\n",
       "      <td>/agence-immobiliere/meudon/acheter/meudon/appa...</td>\n",
       "    </tr>\n",
       "    <tr>\n",
       "      <th>4</th>\n",
       "      <td>Maison T5 Issy-les-Moulineaux</td>\n",
       "      <td>/agence-immobiliere/meudon/acheter/issy-les-mo...</td>\n",
       "    </tr>\n",
       "    <tr>\n",
       "      <th>5</th>\n",
       "      <td>Appartement T2 Meudon</td>\n",
       "      <td>/agence-immobiliere/meudon/acheter/meudon/appa...</td>\n",
       "    </tr>\n",
       "    <tr>\n",
       "      <th>6</th>\n",
       "      <td>Maison T7 Meudon</td>\n",
       "      <td>/agence-immobiliere/meudon/acheter/meudon/mais...</td>\n",
       "    </tr>\n",
       "    <tr>\n",
       "      <th>7</th>\n",
       "      <td>Maison T6 Clamart</td>\n",
       "      <td>/agence-immobiliere/meudon/acheter/clamart/mai...</td>\n",
       "    </tr>\n",
       "    <tr>\n",
       "      <th>8</th>\n",
       "      <td>Appartement T4 Meudon</td>\n",
       "      <td>/agence-immobiliere/meudon/acheter/meudon/appa...</td>\n",
       "    </tr>\n",
       "    <tr>\n",
       "      <th>9</th>\n",
       "      <td>Appartement T2 Meudon</td>\n",
       "      <td>/agence-immobiliere/meudon/acheter/meudon/appa...</td>\n",
       "    </tr>\n",
       "    <tr>\n",
       "      <th>10</th>\n",
       "      <td>Appartement T3 Meudon</td>\n",
       "      <td>/agence-immobiliere/meudon/acheter/meudon/appa...</td>\n",
       "    </tr>\n",
       "  </tbody>\n",
       "</table>\n",
       "</div>"
      ],
      "text/plain": [
       "                            title  \\\n",
       "0           Appartement T1 Meudon   \n",
       "1           Appartement T1 Meudon   \n",
       "2           Appartement T2 Meudon   \n",
       "3           Appartement T6 Meudon   \n",
       "4   Maison T5 Issy-les-Moulineaux   \n",
       "5           Appartement T2 Meudon   \n",
       "6                Maison T7 Meudon   \n",
       "7               Maison T6 Clamart   \n",
       "8           Appartement T4 Meudon   \n",
       "9           Appartement T2 Meudon   \n",
       "10          Appartement T3 Meudon   \n",
       "\n",
       "                                                 link  \n",
       "0   /agence-immobiliere/meudon/acheter/meudon/appa...  \n",
       "1   /agence-immobiliere/meudon/acheter/meudon/appa...  \n",
       "2   /agence-immobiliere/meudon/acheter/meudon/appa...  \n",
       "3   /agence-immobiliere/meudon/acheter/meudon/appa...  \n",
       "4   /agence-immobiliere/meudon/acheter/issy-les-mo...  \n",
       "5   /agence-immobiliere/meudon/acheter/meudon/appa...  \n",
       "6   /agence-immobiliere/meudon/acheter/meudon/mais...  \n",
       "7   /agence-immobiliere/meudon/acheter/clamart/mai...  \n",
       "8   /agence-immobiliere/meudon/acheter/meudon/appa...  \n",
       "9   /agence-immobiliere/meudon/acheter/meudon/appa...  \n",
       "10  /agence-immobiliere/meudon/acheter/meudon/appa...  "
      ]
     },
     "execution_count": 103,
     "metadata": {},
     "output_type": "execute_result"
    }
   ],
   "source": [
    "import pandas as pd\n",
    "pd.DataFrame(zip(title,link),columns=[\"title\",\"link\"])"
   ]
  },
  {
   "cell_type": "markdown",
   "metadata": {},
   "source": [
    "### Century 21"
   ]
  },
  {
   "cell_type": "code",
   "execution_count": 125,
   "metadata": {},
   "outputs": [],
   "source": [
    "from bs4 import BeautifulSoup\n",
    "import requests as rq\n",
    "\n",
    "urlbase = 'https://www.century21-adc-meudon.com/'\n",
    "urlbuy = 'annonces/achat/'\n",
    "page = rq.get(urlbase+urlbuy)\n",
    "soup = BeautifulSoup(page.content, \"html.parser\")"
   ]
  },
  {
   "cell_type": "code",
   "execution_count": 127,
   "metadata": {},
   "outputs": [
    {
     "data": {
      "text/plain": [
       "9"
      ]
     },
     "execution_count": 127,
     "metadata": {},
     "output_type": "execute_result"
    }
   ],
   "source": [
    "prop = soup.find_all(class_=\"c-the-property-thumbnail-with-content\")\n",
    "len(prop)"
   ]
  },
  {
   "cell_type": "code",
   "execution_count": 162,
   "metadata": {},
   "outputs": [
    {
     "data": {
      "text/plain": [
       "<img alt=\"Appartement F4 à vendre MEUDON\" class=\"tw-absolute tw-inset-0 tw-z-1 tw-w-full tw-h-full tw-object-cover\" height=\"480\" src=\"/imagesBien/s3/202/3350/c21_202_3350_1421_8_91299B25-305F-4662-A6B1-3C16E4901E6A.jpg\" width=\"640\"/>"
      ]
     },
     "execution_count": 162,
     "metadata": {},
     "output_type": "execute_result"
    }
   ],
   "source": [
    "prop[0].img"
   ]
  },
  {
   "cell_type": "code",
   "execution_count": 131,
   "metadata": {},
   "outputs": [
    {
     "data": {
      "text/plain": [
       "<a href=\"/trouver_logement/detail/2732726839/ \">\n",
       "<img alt=\"Appartement F4 à vendre MEUDON\" class=\"tw-absolute tw-inset-0 tw-z-1 tw-w-full tw-h-full tw-object-cover\" height=\"480\" src=\"/imagesBien/s3/202/3350/c21_202_3350_1421_8_91299B25-305F-4662-A6B1-3C16E4901E6A.jpg\" width=\"640\"/>\n",
       "</a>"
      ]
     },
     "execution_count": 131,
     "metadata": {},
     "output_type": "execute_result"
    }
   ],
   "source": [
    "prop[0].a"
   ]
  },
  {
   "cell_type": "code",
   "execution_count": 163,
   "metadata": {},
   "outputs": [
    {
     "data": {
      "text/plain": [
       "['/trouver_logement/detail/2732726839/ ',\n",
       " '/trouver_logement/detail/2732092856/ ',\n",
       " '/trouver_logement/detail/2450366078/ ',\n",
       " '/trouver_logement/detail/2406896091/ ',\n",
       " '/trouver_logement/detail/2523814827/ ',\n",
       " '/trouver_logement/detail/2364219665/ ',\n",
       " '/trouver_logement/detail/2330246084/ ',\n",
       " '/trouver_logement/detail/2594769511/ ',\n",
       " '/trouver_logement/detail/2594720879/ ']"
      ]
     },
     "execution_count": 163,
     "metadata": {},
     "output_type": "execute_result"
    }
   ],
   "source": [
    "link = [k.a['href'] for k in prop]\n",
    "link"
   ]
  },
  {
   "cell_type": "code",
   "execution_count": 138,
   "metadata": {},
   "outputs": [
    {
     "data": {
      "text/plain": [
       "'MEUDON\\xa0\\n          \\n          92103,87 m2, 4 piècesRef : 1421'"
      ]
     },
     "execution_count": 138,
     "metadata": {},
     "output_type": "execute_result"
    }
   ],
   "source": [
    "soup.find_all(class_=\"c-text-theme-heading-4 tw-tracking-c21-theme-0 tw-text-c21-grey-darker tw-font-barlow tw-font-bold\")[0].get_text(strip=True)"
   ]
  },
  {
   "cell_type": "code",
   "execution_count": 150,
   "metadata": {},
   "outputs": [],
   "source": [
    "h = soup.find_all(class_=\"c-text-theme-heading-3 tw-tracking-c21-theme-0 tw-leading-none tw-text-c21-grey-darker\")"
   ]
  },
  {
   "cell_type": "code",
   "execution_count": 152,
   "metadata": {},
   "outputs": [
    {
     "data": {
      "text/plain": [
       "['Appartement F4 à vendre',\n",
       " 'Appartement T3 à vendre',\n",
       " 'Maison à vendre',\n",
       " 'Appartement F4 à vendre',\n",
       " 'Maison à vendre',\n",
       " 'Appartement T4 à vendre',\n",
       " 'Maison à vendre',\n",
       " 'Maison à vendre',\n",
       " 'Maison à vendre']"
      ]
     },
     "execution_count": 152,
     "metadata": {},
     "output_type": "execute_result"
    }
   ],
   "source": [
    "# h[0].get_text(strip=True)\n",
    "title = [k.get_text(strip=True) for k in h]\n",
    "title"
   ]
  },
  {
   "cell_type": "code",
   "execution_count": 146,
   "metadata": {},
   "outputs": [],
   "source": [
    "p = soup.find_all(class_=\"c-text-theme-heading-1 is-constant tw-tracking-c21-theme-40 tw-mt-2 tablet-landscape:tw-mt-0\")"
   ]
  },
  {
   "cell_type": "code",
   "execution_count": 149,
   "metadata": {},
   "outputs": [
    {
     "data": {
      "text/plain": [
       "[630000, 388500, 1295000, 525200, 995000, 705375, 1850000, 535000, 1050000]"
      ]
     },
     "execution_count": 149,
     "metadata": {},
     "output_type": "execute_result"
    }
   ],
   "source": [
    "price = [int(k.get_text(strip=True).replace(' ', '').replace(u'\\xa0€', u'')) for k in p]\n",
    "price"
   ]
  },
  {
   "cell_type": "code",
   "execution_count": 165,
   "metadata": {},
   "outputs": [
    {
     "data": {
      "text/html": [
       "<div>\n",
       "<style scoped>\n",
       "    .dataframe tbody tr th:only-of-type {\n",
       "        vertical-align: middle;\n",
       "    }\n",
       "\n",
       "    .dataframe tbody tr th {\n",
       "        vertical-align: top;\n",
       "    }\n",
       "\n",
       "    .dataframe thead th {\n",
       "        text-align: right;\n",
       "    }\n",
       "</style>\n",
       "<table border=\"1\" class=\"dataframe\">\n",
       "  <thead>\n",
       "    <tr style=\"text-align: right;\">\n",
       "      <th></th>\n",
       "      <th>title</th>\n",
       "      <th>price</th>\n",
       "      <th>link</th>\n",
       "    </tr>\n",
       "  </thead>\n",
       "  <tbody>\n",
       "    <tr>\n",
       "      <th>0</th>\n",
       "      <td>Appartement T1 Meudon</td>\n",
       "      <td>630000</td>\n",
       "      <td>/trouver_logement/detail/2732726839/</td>\n",
       "    </tr>\n",
       "    <tr>\n",
       "      <th>1</th>\n",
       "      <td>Appartement T1 Meudon</td>\n",
       "      <td>388500</td>\n",
       "      <td>/trouver_logement/detail/2732092856/</td>\n",
       "    </tr>\n",
       "    <tr>\n",
       "      <th>2</th>\n",
       "      <td>Appartement T2 Meudon</td>\n",
       "      <td>1295000</td>\n",
       "      <td>/trouver_logement/detail/2450366078/</td>\n",
       "    </tr>\n",
       "    <tr>\n",
       "      <th>3</th>\n",
       "      <td>Appartement T6 Meudon</td>\n",
       "      <td>525200</td>\n",
       "      <td>/trouver_logement/detail/2406896091/</td>\n",
       "    </tr>\n",
       "    <tr>\n",
       "      <th>4</th>\n",
       "      <td>Maison T5 Issy-les-Moulineaux</td>\n",
       "      <td>995000</td>\n",
       "      <td>/trouver_logement/detail/2523814827/</td>\n",
       "    </tr>\n",
       "    <tr>\n",
       "      <th>5</th>\n",
       "      <td>Appartement T2 Meudon</td>\n",
       "      <td>705375</td>\n",
       "      <td>/trouver_logement/detail/2364219665/</td>\n",
       "    </tr>\n",
       "    <tr>\n",
       "      <th>6</th>\n",
       "      <td>Maison T7 Meudon</td>\n",
       "      <td>1850000</td>\n",
       "      <td>/trouver_logement/detail/2330246084/</td>\n",
       "    </tr>\n",
       "    <tr>\n",
       "      <th>7</th>\n",
       "      <td>Maison T6 Clamart</td>\n",
       "      <td>535000</td>\n",
       "      <td>/trouver_logement/detail/2594769511/</td>\n",
       "    </tr>\n",
       "    <tr>\n",
       "      <th>8</th>\n",
       "      <td>Appartement T4 Meudon</td>\n",
       "      <td>1050000</td>\n",
       "      <td>/trouver_logement/detail/2594720879/</td>\n",
       "    </tr>\n",
       "  </tbody>\n",
       "</table>\n",
       "</div>"
      ],
      "text/plain": [
       "                           title    price  \\\n",
       "0          Appartement T1 Meudon   630000   \n",
       "1          Appartement T1 Meudon   388500   \n",
       "2          Appartement T2 Meudon  1295000   \n",
       "3          Appartement T6 Meudon   525200   \n",
       "4  Maison T5 Issy-les-Moulineaux   995000   \n",
       "5          Appartement T2 Meudon   705375   \n",
       "6               Maison T7 Meudon  1850000   \n",
       "7              Maison T6 Clamart   535000   \n",
       "8          Appartement T4 Meudon  1050000   \n",
       "\n",
       "                                    link  \n",
       "0  /trouver_logement/detail/2732726839/   \n",
       "1  /trouver_logement/detail/2732092856/   \n",
       "2  /trouver_logement/detail/2450366078/   \n",
       "3  /trouver_logement/detail/2406896091/   \n",
       "4  /trouver_logement/detail/2523814827/   \n",
       "5  /trouver_logement/detail/2364219665/   \n",
       "6  /trouver_logement/detail/2330246084/   \n",
       "7  /trouver_logement/detail/2594769511/   \n",
       "8  /trouver_logement/detail/2594720879/   "
      ]
     },
     "execution_count": 165,
     "metadata": {},
     "output_type": "execute_result"
    }
   ],
   "source": [
    "import pandas as pd\n",
    "pd.DataFrame(zip(title,price,link),columns=[\"title\",\"price\",\"link\"])"
   ]
  },
  {
   "cell_type": "markdown",
   "metadata": {},
   "source": [
    "### Orpi"
   ]
  },
  {
   "cell_type": "code",
   "execution_count": 166,
   "metadata": {},
   "outputs": [],
   "source": [
    "from bs4 import BeautifulSoup\n",
    "import requests as rq\n",
    "\n",
    "urlbase = 'https://www.orpi.com/'\n",
    "urlbuy = 'agenceorangerie/acheter'\n",
    "page = rq.get(urlbase+urlbuy)\n",
    "soup = BeautifulSoup(page.content, \"html.parser\")"
   ]
  },
  {
   "cell_type": "code",
   "execution_count": 190,
   "metadata": {},
   "outputs": [
    {
     "data": {
      "text/plain": [
       "['Maison10pièces220m2',\n",
       " 'Appartement4pièces83,03m2',\n",
       " 'Appartement2pièces32,27m2',\n",
       " 'Maison3pièces60m2',\n",
       " 'Appartement3pièces62,45m2',\n",
       " 'Maison6pièces200m2',\n",
       " 'Appartement3pièces52,72m2',\n",
       " 'Appartement4pièces76,35m2',\n",
       " 'Maison5pièces95m2',\n",
       " 'Appartement2pièces46,86m2',\n",
       " 'Appartement3pièces62,75m2',\n",
       " 'Maison5pièces90m2',\n",
       " 'Appartement3pièces63,21m2',\n",
       " 'Appartement4pièces81,52m2']"
      ]
     },
     "execution_count": 190,
     "metadata": {},
     "output_type": "execute_result"
    }
   ],
   "source": [
    "h = soup.find_all(class_=\"u-link-unstyled c-overlay__link\")\n",
    "# h[0].get_text(strip=True)\n",
    "title = [k.get_text(strip=True) for k in h]\n",
    "title"
   ]
  },
  {
   "cell_type": "code",
   "execution_count": 169,
   "metadata": {},
   "outputs": [
    {
     "data": {
      "text/plain": [
       "['/annonce-vente-maison-t10-meudon-92190-b-e21cl2/?agency=agenceorangerie',\n",
       " '/annonce-vente-appartement-t4-sevres-92310-b-e22tbn/?agency=agenceorangerie',\n",
       " '/annonce-vente-appartement-t2-chaville-92370-b-e24tw9/?agency=agenceorangerie',\n",
       " '/annonce-vente-maison-t3-chaville-92370-b-e24vy5/?agency=agenceorangerie',\n",
       " '/annonce-vente-appartement-t3-sevres-92310-b-e24k2l/?agency=agenceorangerie',\n",
       " '/annonce-vente-maison-t6-velizy-villacoublay-92370-b-e249hn/?agency=agenceorangerie',\n",
       " '/annonce-vente-appartement-t3-meudon-92190-b-e24fcf/?agency=agenceorangerie',\n",
       " '/annonce-vente-appartement-t4-sevres-92310-b-e1xmst/?agency=agenceorangerie',\n",
       " '/annonce-vente-maison-t5-chaville-92370-b-e16n2t/?agency=agenceorangerie',\n",
       " '/annonce-vente-appartement-t2-meudon-92190-b-012hco/?agency=agenceorangerie',\n",
       " '/annonce-vente-appartement-t3-sevres-92310-b-e20dfb/?agency=agenceorangerie',\n",
       " '/annonce-vente-maison-t5-chaville-92370-b-e1ymhm/?agency=agenceorangerie',\n",
       " '/annonce-vente-appartement-t3-meudon-92190-b-e1khfl/?agency=agenceorangerie',\n",
       " '/annonce-vente-appartement-t4-sevres-92310-b-e1uj9k/?agency=agenceorangerie']"
      ]
     },
     "execution_count": 169,
     "metadata": {},
     "output_type": "execute_result"
    }
   ],
   "source": [
    "l = soup.find_all(class_=\"u-link-unstyled c-overlay__link\")\n",
    "link = [k['href'] for k in l]\n",
    "link"
   ]
  },
  {
   "cell_type": "code",
   "execution_count": 173,
   "metadata": {},
   "outputs": [
    {
     "data": {
      "text/plain": [
       "['https://static.orpi.com/images/immo-facile/estate-result-item/office6/orpi_72969/catalog/images/pr_p/9/3/4/5/4/6/9/9345469a--202112141853.jpg',\n",
       " 'https://static.orpi.com/images/immo-facile/estate-result-item/office6/orpi_149713/catalog/images/pr_p/9/4/2/9/2/1/8/9429218a--202112101618.jpg',\n",
       " 'https://static.orpi.com/images/immo-facile/estate-result-item/office6/orpi_72969/catalog/images/pr_p/9/5/4/4/4/3/3/9544433a--202111091003.jpg',\n",
       " 'https://static.orpi.com/images/immo-facile/estate-result-item/office6/orpi_72969/catalog/images/pr_p/9/5/4/7/6/0/8/9547608a--202111151010.jpg',\n",
       " 'https://static.orpi.com/images/immo-facile/estate-result-item/office6/orpi_149713/catalog/images/pr_p/9/5/2/9/6/7/2/9529672a--202111021608.jpg',\n",
       " 'https://static.orpi.com/images/immo-facile/estate-result-item/office6/orpi_72969/catalog/images/pr_p/9/5/1/3/2/9/6/9513296a--202110301706.jpg',\n",
       " 'https://static.orpi.com/images/immo-facile/estate-result-item/office6/orpi_72969/catalog/images/pr_p/9/5/2/2/1/3/8/9522138a--202110301009.jpg',\n",
       " 'https://static.orpi.com/images/immo-facile/estate-result-item/office6/orpi_149713/catalog/images/pr_p/9/0/1/1/6/5/5/9011655a--202111190920.jpg',\n",
       " 'https://static.orpi.com/images/immo-facile/estate-result-item/office6/orpi_72969/catalog/images/pr_p/5/4/6/6/0/3/4/5466034a--202111031005.jpg',\n",
       " 'https://static.orpi.com/images/immo-facile/estate-result-item/office6/orpi_72984/catalog/images/pr_p/2/9/9/6/6/2/3/2996623a--202107071117.jpg',\n",
       " 'https://static.orpi.com/images/immo-facile/estate-result-item/office6/orpi_149713/catalog/images/pr_p/9/2/8/3/9/4/6/9283946a--202111021909.jpg',\n",
       " 'https://static.orpi.com/images/immo-facile/estate-result-item/office6/orpi_72969/catalog/images/pr_p/9/1/6/2/0/4/0/9162040a--202110151613.jpg',\n",
       " 'https://static.orpi.com/images/immo-facile/estate-result-item/office6/orpi_72969/catalog/images/pr_p/6/4/9/8/8/5/1/6498851a--202110141838.jpg',\n",
       " 'https://static.orpi.com/images/immo-facile/estate-result-item/office6/orpi_149713/catalog/images/pr_p/8/3/4/5/4/4/5/8345445a--202112041058.jpg']"
      ]
     },
     "execution_count": 173,
     "metadata": {},
     "output_type": "execute_result"
    }
   ],
   "source": [
    "i = soup.find_all(class_=\"c-overlay__zoom\")\n",
    "img = [k['data-src'] for k in i]\n",
    "img"
   ]
  },
  {
   "cell_type": "code",
   "execution_count": 183,
   "metadata": {},
   "outputs": [
    {
     "data": {
      "text/plain": [
       "[1295000,\n",
       " 470250,\n",
       " 210000,\n",
       " 499000,\n",
       " 405000,\n",
       " 1090000,\n",
       " 350000,\n",
       " 430000,\n",
       " 695000,\n",
       " 315000,\n",
       " 390000,\n",
       " 645000,\n",
       " 420000,\n",
       " 520000]"
      ]
     },
     "execution_count": 183,
     "metadata": {},
     "output_type": "execute_result"
    }
   ],
   "source": [
    "p = soup.find_all(class_=\"u-text-md u-color-primary\")\n",
    "price = [int(k.get_text(strip=True).replace(u'\\xa0', u'').replace(u'€', u'')) for k in p]\n",
    "price"
   ]
  },
  {
   "cell_type": "code",
   "execution_count": 191,
   "metadata": {},
   "outputs": [
    {
     "data": {
      "text/html": [
       "<div>\n",
       "<style scoped>\n",
       "    .dataframe tbody tr th:only-of-type {\n",
       "        vertical-align: middle;\n",
       "    }\n",
       "\n",
       "    .dataframe tbody tr th {\n",
       "        vertical-align: top;\n",
       "    }\n",
       "\n",
       "    .dataframe thead th {\n",
       "        text-align: right;\n",
       "    }\n",
       "</style>\n",
       "<table border=\"1\" class=\"dataframe\">\n",
       "  <thead>\n",
       "    <tr style=\"text-align: right;\">\n",
       "      <th></th>\n",
       "      <th>title</th>\n",
       "      <th>price</th>\n",
       "      <th>link</th>\n",
       "    </tr>\n",
       "  </thead>\n",
       "  <tbody>\n",
       "    <tr>\n",
       "      <th>0</th>\n",
       "      <td>Maison10pièces220m2</td>\n",
       "      <td>1295000</td>\n",
       "      <td>/annonce-vente-maison-t10-meudon-92190-b-e21cl...</td>\n",
       "    </tr>\n",
       "    <tr>\n",
       "      <th>1</th>\n",
       "      <td>Appartement4pièces83,03m2</td>\n",
       "      <td>470250</td>\n",
       "      <td>/annonce-vente-appartement-t4-sevres-92310-b-e...</td>\n",
       "    </tr>\n",
       "    <tr>\n",
       "      <th>2</th>\n",
       "      <td>Appartement2pièces32,27m2</td>\n",
       "      <td>210000</td>\n",
       "      <td>/annonce-vente-appartement-t2-chaville-92370-b...</td>\n",
       "    </tr>\n",
       "    <tr>\n",
       "      <th>3</th>\n",
       "      <td>Maison3pièces60m2</td>\n",
       "      <td>499000</td>\n",
       "      <td>/annonce-vente-maison-t3-chaville-92370-b-e24v...</td>\n",
       "    </tr>\n",
       "    <tr>\n",
       "      <th>4</th>\n",
       "      <td>Appartement3pièces62,45m2</td>\n",
       "      <td>405000</td>\n",
       "      <td>/annonce-vente-appartement-t3-sevres-92310-b-e...</td>\n",
       "    </tr>\n",
       "    <tr>\n",
       "      <th>5</th>\n",
       "      <td>Maison6pièces200m2</td>\n",
       "      <td>1090000</td>\n",
       "      <td>/annonce-vente-maison-t6-velizy-villacoublay-9...</td>\n",
       "    </tr>\n",
       "    <tr>\n",
       "      <th>6</th>\n",
       "      <td>Appartement3pièces52,72m2</td>\n",
       "      <td>350000</td>\n",
       "      <td>/annonce-vente-appartement-t3-meudon-92190-b-e...</td>\n",
       "    </tr>\n",
       "    <tr>\n",
       "      <th>7</th>\n",
       "      <td>Appartement4pièces76,35m2</td>\n",
       "      <td>430000</td>\n",
       "      <td>/annonce-vente-appartement-t4-sevres-92310-b-e...</td>\n",
       "    </tr>\n",
       "    <tr>\n",
       "      <th>8</th>\n",
       "      <td>Maison5pièces95m2</td>\n",
       "      <td>695000</td>\n",
       "      <td>/annonce-vente-maison-t5-chaville-92370-b-e16n...</td>\n",
       "    </tr>\n",
       "    <tr>\n",
       "      <th>9</th>\n",
       "      <td>Appartement2pièces46,86m2</td>\n",
       "      <td>315000</td>\n",
       "      <td>/annonce-vente-appartement-t2-meudon-92190-b-0...</td>\n",
       "    </tr>\n",
       "    <tr>\n",
       "      <th>10</th>\n",
       "      <td>Appartement3pièces62,75m2</td>\n",
       "      <td>390000</td>\n",
       "      <td>/annonce-vente-appartement-t3-sevres-92310-b-e...</td>\n",
       "    </tr>\n",
       "    <tr>\n",
       "      <th>11</th>\n",
       "      <td>Maison5pièces90m2</td>\n",
       "      <td>645000</td>\n",
       "      <td>/annonce-vente-maison-t5-chaville-92370-b-e1ym...</td>\n",
       "    </tr>\n",
       "    <tr>\n",
       "      <th>12</th>\n",
       "      <td>Appartement3pièces63,21m2</td>\n",
       "      <td>420000</td>\n",
       "      <td>/annonce-vente-appartement-t3-meudon-92190-b-e...</td>\n",
       "    </tr>\n",
       "    <tr>\n",
       "      <th>13</th>\n",
       "      <td>Appartement4pièces81,52m2</td>\n",
       "      <td>520000</td>\n",
       "      <td>/annonce-vente-appartement-t4-sevres-92310-b-e...</td>\n",
       "    </tr>\n",
       "  </tbody>\n",
       "</table>\n",
       "</div>"
      ],
      "text/plain": [
       "                        title    price  \\\n",
       "0         Maison10pièces220m2  1295000   \n",
       "1   Appartement4pièces83,03m2   470250   \n",
       "2   Appartement2pièces32,27m2   210000   \n",
       "3           Maison3pièces60m2   499000   \n",
       "4   Appartement3pièces62,45m2   405000   \n",
       "5          Maison6pièces200m2  1090000   \n",
       "6   Appartement3pièces52,72m2   350000   \n",
       "7   Appartement4pièces76,35m2   430000   \n",
       "8           Maison5pièces95m2   695000   \n",
       "9   Appartement2pièces46,86m2   315000   \n",
       "10  Appartement3pièces62,75m2   390000   \n",
       "11          Maison5pièces90m2   645000   \n",
       "12  Appartement3pièces63,21m2   420000   \n",
       "13  Appartement4pièces81,52m2   520000   \n",
       "\n",
       "                                                 link  \n",
       "0   /annonce-vente-maison-t10-meudon-92190-b-e21cl...  \n",
       "1   /annonce-vente-appartement-t4-sevres-92310-b-e...  \n",
       "2   /annonce-vente-appartement-t2-chaville-92370-b...  \n",
       "3   /annonce-vente-maison-t3-chaville-92370-b-e24v...  \n",
       "4   /annonce-vente-appartement-t3-sevres-92310-b-e...  \n",
       "5   /annonce-vente-maison-t6-velizy-villacoublay-9...  \n",
       "6   /annonce-vente-appartement-t3-meudon-92190-b-e...  \n",
       "7   /annonce-vente-appartement-t4-sevres-92310-b-e...  \n",
       "8   /annonce-vente-maison-t5-chaville-92370-b-e16n...  \n",
       "9   /annonce-vente-appartement-t2-meudon-92190-b-0...  \n",
       "10  /annonce-vente-appartement-t3-sevres-92310-b-e...  \n",
       "11  /annonce-vente-maison-t5-chaville-92370-b-e1ym...  \n",
       "12  /annonce-vente-appartement-t3-meudon-92190-b-e...  \n",
       "13  /annonce-vente-appartement-t4-sevres-92310-b-e...  "
      ]
     },
     "execution_count": 191,
     "metadata": {},
     "output_type": "execute_result"
    }
   ],
   "source": [
    "import pandas as pd\n",
    "pd.DataFrame(zip(title,price,link),columns=[\"title\",\"price\",\"link\"])"
   ]
  },
  {
   "cell_type": "markdown",
   "metadata": {},
   "source": [
    "## Selenium\n",
    "\n",
    "https://realpython.com/modern-web-automation-with-python-and-selenium/\n"
   ]
  },
  {
   "cell_type": "markdown",
   "metadata": {},
   "source": [
    "Download Chrome driver (version 95 here):\n",
    "\n",
    "https://sites.google.com/chromium.org/driver/"
   ]
  },
  {
   "cell_type": "code",
   "execution_count": 1,
   "metadata": {},
   "outputs": [
    {
     "data": {
      "text/plain": [
       "['2022 immo search - Meudon - Sheet1.csv',\n",
       " 'chromedriver.exe',\n",
       " 'env',\n",
       " 'requirements.txt',\n",
       " 'scraper.ipynb']"
      ]
     },
     "execution_count": 1,
     "metadata": {},
     "output_type": "execute_result"
    }
   ],
   "source": [
    "import pandas as pd\n",
    "import os\n",
    "\n",
    "os.listdir()"
   ]
  },
  {
   "cell_type": "code",
   "execution_count": 4,
   "metadata": {},
   "outputs": [
    {
     "data": {
      "text/plain": [
       "'https://www.seloger.com/annonces/achat/appartement/meudon-92/bas-meudon/179545595.htm?projects=2&types=2,1&places=[{%22inseeCodes%22:[920048]}]&price=NaN/500000&surface=60/NaN&mandatorycommodities=0&enterprise=0&qsVersion=1.0&m=map_to_detail'"
      ]
     },
     "execution_count": 4,
     "metadata": {},
     "output_type": "execute_result"
    }
   ],
   "source": [
    "df = pd.read_csv(\"2022 immo search - Meudon - Sheet1.csv\")\n",
    "df['URL'][0]"
   ]
  },
  {
   "cell_type": "code",
   "execution_count": 5,
   "metadata": {},
   "outputs": [
    {
     "name": "stderr",
     "output_type": "stream",
     "text": [
      "C:\\Users\\ydebray\\AppData\\Local\\Temp/ipykernel_2328/60826164.py:2: DeprecationWarning: executable_path has been deprecated, please pass in a Service object\n",
      "  browser = webdriver.Chrome('chromedriver.exe')\n"
     ]
    }
   ],
   "source": [
    "from selenium import webdriver\n",
    "browser = webdriver.Chrome('chromedriver.exe')\n"
   ]
  },
  {
   "cell_type": "code",
   "execution_count": 6,
   "metadata": {},
   "outputs": [],
   "source": [
    "browser.get(df['URL'][0])\n",
    "\n",
    "# browser.quit()"
   ]
  },
  {
   "cell_type": "markdown",
   "metadata": {},
   "source": [
    "enter login / password"
   ]
  },
  {
   "cell_type": "markdown",
   "metadata": {},
   "source": [
    "## Elements of the page"
   ]
  },
  {
   "cell_type": "code",
   "execution_count": 10,
   "metadata": {},
   "outputs": [
    {
     "name": "stderr",
     "output_type": "stream",
     "text": [
      "C:\\Users\\ydebray\\AppData\\Local\\Temp/ipykernel_2328/2627604637.py:1: DeprecationWarning: find_element_by_* commands are deprecated. Please use find_element() instead\n",
      "  el = browser.find_element_by_xpath('//*[@id=\"__next\"]/div/main/div[3]/div/div[1]/div[1]/div[3]/div/div[2]/div[1]/div/span/span')\n"
     ]
    },
    {
     "data": {
      "text/plain": [
       "'422 000 €'"
      ]
     },
     "execution_count": 10,
     "metadata": {},
     "output_type": "execute_result"
    }
   ],
   "source": [
    "# Price\n",
    "el = browser.find_element_by_xpath('//*[@id=\"__next\"]/div/main/div[3]/div/div[1]/div[1]/div[3]/div/div[2]/div[1]/div/span/span')\n",
    "el.text"
   ]
  },
  {
   "cell_type": "code",
   "execution_count": 11,
   "metadata": {},
   "outputs": [
    {
     "name": "stderr",
     "output_type": "stream",
     "text": [
      "C:\\Users\\ydebray\\AppData\\Local\\Temp/ipykernel_2328/2578299079.py:3: DeprecationWarning: find_element_by_* commands are deprecated. Please use find_element() instead\n",
      "  el = browser.find_element_by_xpath(xpath)\n"
     ]
    },
    {
     "data": {
      "text/plain": [
       "'65 m²'"
      ]
     },
     "execution_count": 11,
     "metadata": {},
     "output_type": "execute_result"
    }
   ],
   "source": [
    "# Size\n",
    "xpath = '//*[@id=\"__next\"]/div/main/div[3]/div/div[1]/div[1]/div[3]/div/div[1]/div[2]/div[3]'\n",
    "el = browser.find_element_by_xpath(xpath)\n",
    "el.text"
   ]
  },
  {
   "cell_type": "code",
   "execution_count": 14,
   "metadata": {},
   "outputs": [
    {
     "name": "stderr",
     "output_type": "stream",
     "text": [
      "C:\\Users\\ydebray\\AppData\\Local\\Temp/ipykernel_2328/2330710195.py:3: DeprecationWarning: find_element_by_* commands are deprecated. Please use find_element() instead\n",
      "  el = browser.find_element_by_xpath(xpath)\n"
     ]
    },
    {
     "data": {
      "text/plain": [
       "'https://v.seloger.com/s/cdn/x/visuels/0/i/s/0/0is05hby2aevm4xd9rnxpk2zie9y3prod76g0exk8.jpg'"
      ]
     },
     "execution_count": 14,
     "metadata": {},
     "output_type": "execute_result"
    }
   ],
   "source": [
    "# Photo\n",
    "xpath = '//*[@id=\"__next\"]/div/main/div[3]/div/div[1]/div[1]/div[2]/div/div[1]/div[2]/div[2]/div/div[2]/img'\n",
    "el = browser.find_element_by_xpath(xpath)\n",
    "src = el.get_attribute('src')\n",
    "src"
   ]
  },
  {
   "cell_type": "code",
   "execution_count": null,
   "metadata": {},
   "outputs": [],
   "source": [
    "# from PIL import Image\n",
    "# im = Image.open(src)\n",
    "# im.show()"
   ]
  },
  {
   "cell_type": "code",
   "execution_count": 18,
   "metadata": {},
   "outputs": [
    {
     "data": {
      "image/png": "[encoded data removed]",
      "text/plain": [
       "<PIL.JpegImagePlugin.JpegImageFile image mode=RGB size=360x480 at 0x1E4BCE65850>"
      ]
     },
     "execution_count": 18,
     "metadata": {},
     "output_type": "execute_result"
    }
   ],
   "source": [
    "from PIL import Image\n",
    "import requests\n",
    "from io import BytesIO\n",
    "\n",
    "response = requests.get(src)\n",
    "img = Image.open(BytesIO(response.content))\n",
    "img"
   ]
  },
  {
   "cell_type": "markdown",
   "metadata": {},
   "source": [
    "## Loop on pages"
   ]
  },
  {
   "cell_type": "code",
   "execution_count": 19,
   "metadata": {},
   "outputs": [
    {
     "data": {
      "text/plain": [
       "['https://www.seloger.com/annonces/achat/appartement/meudon-92/bas-meudon/179545595.htm?projects=2&types=2,1&places=[{%22inseeCodes%22:[920048]}]&price=NaN/500000&surface=60/NaN&mandatorycommodities=0&enterprise=0&qsVersion=1.0&m=map_to_detail',\n",
       " 'https://www.seloger.com/annonces/achat/appartement/meudon-92/bellevue/177480361.htm?projects=2&types=2,1&places=[{%22inseeCodes%22:[920048]}]&price=NaN/500000&surface=60/NaN&mandatorycommodities=0&enterprise=0&qsVersion=1.0&m=map_to_detail',\n",
       " 'https://www.seloger.com/annonces/achat/appartement/meudon-92/179698397.htm?projects=2&types=2,1&places=[{%22inseeCodes%22:[920048]}]&price=NaN/500000&surface=60/NaN&mandatorycommodities=0&enterprise=0&qsVersion=1.0&m=map_to_detail',\n",
       " 'https://www.seloger.com/annonces/achat/appartement/meudon-92/bellevue/179701659.htm?projects=2&types=2,1&places=[{%22inseeCodes%22:[920048]}]&price=NaN/500000&surface=60/NaN&mandatorycommodities=0&enterprise=0&qsVersion=1.0&m=map_to_detail',\n",
       " 'https://www.seloger.com/annonces/achat/appartement/meudon-92/bas-meudon/180746435.htm?projects=2&types=2,1&places=[{%22inseeCodes%22:[920048]}]&price=NaN/500000&surface=60/NaN&mandatorycommodities=0&enterprise=0&qsVersion=1.0&m=map_to_detail',\n",
       " 'https://www.logic-immo.com/detail-vente-1295cd71-53c1-8877-18aa-f81645cda25a.htm?mea=orpi&disableNav=true',\n",
       " 'https://www.seloger.com/annonces/achat/appartement/meudon-92/180003259.htm?projects=2&types=2,1&places=[{%22inseeCodes%22:[920048]}]&price=NaN/500000&surface=60/NaN&mandatorycommodities=0&enterprise=0&qsVersion=1.0&m=map_to_detail',\n",
       " 'https://www.seloger.com/annonces/achat/appartement/meudon-92/178220965.htm?projects=2&types=2,1&places=[{%22inseeCodes%22:[920048]}]&price=NaN/500000&surface=60/NaN&mandatorycommodities=0&enterprise=0&qsVersion=1.0&m=map_to_detail',\n",
       " 'https://www.seloger.com/annonces/achat/appartement/meudon-92/le-centre/180144565.htm?projects=2&types=2,1&places=[{%22inseeCodes%22:[920048]}]&price=NaN/500000&surface=60/NaN&mandatorycommodities=0&enterprise=0&qsVersion=1.0&m=map_to_detail',\n",
       " 'https://www.seloger.com/annonces/achat/appartement/meudon-92/le-centre/176722423.htm?projects=2&types=2,1&places=[{%22inseeCodes%22:[920048]}]&price=NaN/500000&surface=60/NaN&mandatorycommodities=0&enterprise=0&qsVersion=1.0&m=map_to_detail',\n",
       " 'https://riveouestimmo.com/annonce/appartement-meudon-2-pieces-62-m2/',\n",
       " 'https://riveouestimmo.com/annonce/appartement-charmant-3-pieces-61-m%c2%b2/',\n",
       " 'https://www.seloger.com/annonces/achat/appartement/meudon-92/bas-meudon/179279209.htm?projects=2&types=2,1&places=[{%22inseeCodes%22:[920048]}]&price=NaN/500000&surface=60/NaN&mandatorycommodities=0&enterprise=0&qsVersion=1.0&m=map_to_detail',\n",
       " 'https://www.logic-immo.com/detail-vente-50275347-3950-c5ef-6e65-1a17226fe8ca.htm?mea=exclu',\n",
       " 'https://www.laforet.com/agence-immobiliere/meudon/acheter/meudon/appartement-2-pieces-20051617']"
      ]
     },
     "execution_count": 19,
     "metadata": {},
     "output_type": "execute_result"
    }
   ],
   "source": [
    "links = list(df['URL'])\n",
    "links"
   ]
  },
  {
   "cell_type": "code",
   "execution_count": 21,
   "metadata": {},
   "outputs": [
    {
     "data": {
      "text/plain": [
       "'www.seloger.com'"
      ]
     },
     "execution_count": 21,
     "metadata": {},
     "output_type": "execute_result"
    }
   ],
   "source": [
    "from urllib.parse import urlparse\n",
    "urlparse(links[0]).hostname"
   ]
  },
  {
   "cell_type": "code",
   "execution_count": 22,
   "metadata": {},
   "outputs": [
    {
     "data": {
      "text/plain": [
       "['https://www.seloger.com/annonces/achat/appartement/meudon-92/bas-meudon/179545595.htm?projects=2&types=2,1&places=[{%22inseeCodes%22:[920048]}]&price=NaN/500000&surface=60/NaN&mandatorycommodities=0&enterprise=0&qsVersion=1.0&m=map_to_detail',\n",
       " 'https://www.seloger.com/annonces/achat/appartement/meudon-92/bellevue/177480361.htm?projects=2&types=2,1&places=[{%22inseeCodes%22:[920048]}]&price=NaN/500000&surface=60/NaN&mandatorycommodities=0&enterprise=0&qsVersion=1.0&m=map_to_detail',\n",
       " 'https://www.seloger.com/annonces/achat/appartement/meudon-92/179698397.htm?projects=2&types=2,1&places=[{%22inseeCodes%22:[920048]}]&price=NaN/500000&surface=60/NaN&mandatorycommodities=0&enterprise=0&qsVersion=1.0&m=map_to_detail',\n",
       " 'https://www.seloger.com/annonces/achat/appartement/meudon-92/bellevue/179701659.htm?projects=2&types=2,1&places=[{%22inseeCodes%22:[920048]}]&price=NaN/500000&surface=60/NaN&mandatorycommodities=0&enterprise=0&qsVersion=1.0&m=map_to_detail',\n",
       " 'https://www.seloger.com/annonces/achat/appartement/meudon-92/bas-meudon/180746435.htm?projects=2&types=2,1&places=[{%22inseeCodes%22:[920048]}]&price=NaN/500000&surface=60/NaN&mandatorycommodities=0&enterprise=0&qsVersion=1.0&m=map_to_detail',\n",
       " '',\n",
       " 'https://www.seloger.com/annonces/achat/appartement/meudon-92/180003259.htm?projects=2&types=2,1&places=[{%22inseeCodes%22:[920048]}]&price=NaN/500000&surface=60/NaN&mandatorycommodities=0&enterprise=0&qsVersion=1.0&m=map_to_detail',\n",
       " 'https://www.seloger.com/annonces/achat/appartement/meudon-92/178220965.htm?projects=2&types=2,1&places=[{%22inseeCodes%22:[920048]}]&price=NaN/500000&surface=60/NaN&mandatorycommodities=0&enterprise=0&qsVersion=1.0&m=map_to_detail',\n",
       " 'https://www.seloger.com/annonces/achat/appartement/meudon-92/le-centre/180144565.htm?projects=2&types=2,1&places=[{%22inseeCodes%22:[920048]}]&price=NaN/500000&surface=60/NaN&mandatorycommodities=0&enterprise=0&qsVersion=1.0&m=map_to_detail',\n",
       " 'https://www.seloger.com/annonces/achat/appartement/meudon-92/le-centre/176722423.htm?projects=2&types=2,1&places=[{%22inseeCodes%22:[920048]}]&price=NaN/500000&surface=60/NaN&mandatorycommodities=0&enterprise=0&qsVersion=1.0&m=map_to_detail',\n",
       " '',\n",
       " '',\n",
       " 'https://www.seloger.com/annonces/achat/appartement/meudon-92/bas-meudon/179279209.htm?projects=2&types=2,1&places=[{%22inseeCodes%22:[920048]}]&price=NaN/500000&surface=60/NaN&mandatorycommodities=0&enterprise=0&qsVersion=1.0&m=map_to_detail',\n",
       " '',\n",
       " '']"
      ]
     },
     "execution_count": 22,
     "metadata": {},
     "output_type": "execute_result"
    }
   ],
   "source": [
    "links = [link if urlparse(link).hostname == \"www.seloger.com\" else \"\" for link in links]\n",
    "links"
   ]
  },
  {
   "cell_type": "code",
   "execution_count": 27,
   "metadata": {},
   "outputs": [
    {
     "data": {
      "text/plain": [
       "['https://www.seloger.com/annonces/achat/appartement/meudon-92/bas-meudon/179545595.htm?projects=2&types=2,1&places=[{%22inseeCodes%22:[920048]}]&price=NaN/500000&surface=60/NaN&mandatorycommodities=0&enterprise=0&qsVersion=1.0&m=map_to_detail',\n",
       " 'https://www.seloger.com/annonces/achat/appartement/meudon-92/bellevue/177480361.htm?projects=2&types=2,1&places=[{%22inseeCodes%22:[920048]}]&price=NaN/500000&surface=60/NaN&mandatorycommodities=0&enterprise=0&qsVersion=1.0&m=map_to_detail',\n",
       " 'https://www.seloger.com/annonces/achat/appartement/meudon-92/179698397.htm?projects=2&types=2,1&places=[{%22inseeCodes%22:[920048]}]&price=NaN/500000&surface=60/NaN&mandatorycommodities=0&enterprise=0&qsVersion=1.0&m=map_to_detail',\n",
       " 'https://www.seloger.com/annonces/achat/appartement/meudon-92/bellevue/179701659.htm?projects=2&types=2,1&places=[{%22inseeCodes%22:[920048]}]&price=NaN/500000&surface=60/NaN&mandatorycommodities=0&enterprise=0&qsVersion=1.0&m=map_to_detail',\n",
       " 'https://www.seloger.com/annonces/achat/appartement/meudon-92/bas-meudon/180746435.htm?projects=2&types=2,1&places=[{%22inseeCodes%22:[920048]}]&price=NaN/500000&surface=60/NaN&mandatorycommodities=0&enterprise=0&qsVersion=1.0&m=map_to_detail',\n",
       " 'https://www.seloger.com/annonces/achat/appartement/meudon-92/180003259.htm?projects=2&types=2,1&places=[{%22inseeCodes%22:[920048]}]&price=NaN/500000&surface=60/NaN&mandatorycommodities=0&enterprise=0&qsVersion=1.0&m=map_to_detail',\n",
       " 'https://www.seloger.com/annonces/achat/appartement/meudon-92/178220965.htm?projects=2&types=2,1&places=[{%22inseeCodes%22:[920048]}]&price=NaN/500000&surface=60/NaN&mandatorycommodities=0&enterprise=0&qsVersion=1.0&m=map_to_detail',\n",
       " 'https://www.seloger.com/annonces/achat/appartement/meudon-92/le-centre/180144565.htm?projects=2&types=2,1&places=[{%22inseeCodes%22:[920048]}]&price=NaN/500000&surface=60/NaN&mandatorycommodities=0&enterprise=0&qsVersion=1.0&m=map_to_detail',\n",
       " 'https://www.seloger.com/annonces/achat/appartement/meudon-92/le-centre/176722423.htm?projects=2&types=2,1&places=[{%22inseeCodes%22:[920048]}]&price=NaN/500000&surface=60/NaN&mandatorycommodities=0&enterprise=0&qsVersion=1.0&m=map_to_detail',\n",
       " 'https://www.seloger.com/annonces/achat/appartement/meudon-92/bas-meudon/179279209.htm?projects=2&types=2,1&places=[{%22inseeCodes%22:[920048]}]&price=NaN/500000&surface=60/NaN&mandatorycommodities=0&enterprise=0&qsVersion=1.0&m=map_to_detail']"
      ]
     },
     "execution_count": 27,
     "metadata": {},
     "output_type": "execute_result"
    }
   ],
   "source": [
    "links.remove('')\n",
    "links"
   ]
  },
  {
   "cell_type": "markdown",
   "metadata": {},
   "source": [
    "Alternative: `mylist.find('seloger')` or `import re; r = re.compile(\"pattern\"); newlist = list(filter(r.match, mylist))`"
   ]
  },
  {
   "cell_type": "code",
   "execution_count": 28,
   "metadata": {},
   "outputs": [
    {
     "name": "stderr",
     "output_type": "stream",
     "text": [
      "C:\\Users\\ydebray\\AppData\\Local\\Temp/ipykernel_2328/2651383276.py:11: DeprecationWarning: find_element_by_* commands are deprecated. Please use find_element() instead\n",
      "  p = browser.find_element_by_xpath('//*[@id=\"__next\"]/div/main/div[3]/div/div[1]/div[1]/div[3]/div/div[2]/div[1]/div/span/span')\n",
      "C:\\Users\\ydebray\\AppData\\Local\\Temp/ipykernel_2328/2651383276.py:14: DeprecationWarning: find_element_by_* commands are deprecated. Please use find_element() instead\n",
      "  s = browser.find_element_by_xpath(xpath)\n",
      "C:\\Users\\ydebray\\AppData\\Local\\Temp/ipykernel_2328/2651383276.py:17: DeprecationWarning: find_element_by_* commands are deprecated. Please use find_element() instead\n",
      "  el = browser.find_element_by_xpath(xpath)\n"
     ]
    }
   ],
   "source": [
    "import time\n",
    "prices = []\n",
    "sizes = []\n",
    "photos = []\n",
    "\n",
    "for link in links:\n",
    "    browser.get(link)\n",
    "    time.sleep(2)\n",
    "    try:\n",
    "        # Price\n",
    "        p = browser.find_element_by_xpath('//*[@id=\"__next\"]/div/main/div[3]/div/div[1]/div[1]/div[3]/div/div[2]/div[1]/div/span/span')\n",
    "        prices.append(p.text)\n",
    "        xpath = '//*[@id=\"__next\"]/div/main/div[3]/div/div[1]/div[1]/div[3]/div/div[1]/div[2]/div[3]'\n",
    "        s = browser.find_element_by_xpath(xpath)\n",
    "        sizes.append(s.text)\n",
    "        xpath = '//*[@id=\"__next\"]/div/main/div[3]/div/div[1]/div[1]/div[2]/div/div[1]/div[2]/div[2]/div/div[2]/img'\n",
    "        el = browser.find_element_by_xpath(xpath)\n",
    "        src = el.get_attribute('src')\n",
    "        photos.append(src)\n",
    "    except:\n",
    "        pass"
   ]
  },
  {
   "cell_type": "code",
   "execution_count": 30,
   "metadata": {},
   "outputs": [
    {
     "data": {
      "text/plain": [
       "(['422 000 €', '332 170 €', '388 500 €', '483 000 €'],\n",
       " ['65 m²', '69 m²', '60,15 m²', '82 m²'],\n",
       " ['https://v.seloger.com/s/cdn/x/visuels/0/i/s/0/0is05hby2aevm4xd9rnxpk2zie9y3prod76g0exk8.jpg',\n",
       "  'https://v.seloger.com/s/width/800/visuels/0/v/b/s/0vbssva4fqv4qb5vfb2z9nlo0efkibzgjzipbwlka.jpg',\n",
       "  'https://v.seloger.com/s/width/800/visuels/0/g/n/0/0gn0vk9hd7e8ditveohleail9szxdudk9ut6ywzhc.jpg',\n",
       "  'https://v.seloger.com/s/width/800/visuels/0/r/z/2/0rz2ipk5zyijacpyqdv0h805zgdk3dipxn2idwwzk.jpg'])"
      ]
     },
     "execution_count": 30,
     "metadata": {},
     "output_type": "execute_result"
    }
   ],
   "source": [
    "prices,sizes,photos"
   ]
  }
 ],
 "metadata": {
  "interpreter": {
   "hash": "ea6d1940014d46e3b1cd608dc01a4850dba11d686206642561c1002c1523c34d"
  },
  "kernelspec": {
   "display_name": "Python 3.7.3 64-bit ('base': conda)",
   "language": "python",
   "name": "python3"
  },
  "language_info": {
   "codemirror_mode": {
    "name": "ipython",
    "version": 3
   },
   "file_extension": ".py",
   "mimetype": "text/x-python",
   "name": "python",
   "nbconvert_exporter": "python",
   "pygments_lexer": "ipython3",
   "version": "3.9.1"
  },
  "orig_nbformat": 4
 },
 "nbformat": 4,
 "nbformat_minor": 2
}
